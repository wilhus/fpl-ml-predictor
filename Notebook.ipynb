{
 "cells": [
  {
   "cell_type": "markdown",
   "id": "f15da1c4",
   "metadata": {},
   "source": [
    "Download FPL data from github/vaastav, extract and save to data folder."
   ]
  },
  {
   "cell_type": "code",
   "execution_count": 22,
   "id": "7d16bebe",
   "metadata": {},
   "outputs": [],
   "source": [
    "import wget\n",
    "from zipfile import ZipFile\n",
    "\n",
    "# github url\n",
    "url = 'https://www.github.com/vaastav/Fantasy-Premier-League/archive/master.zip'\n",
    "wget.download(url)\n",
    "\n",
    "# extract files\n",
    "zip = ZipFile('Fantasy-Premier-League-master.zip')\n",
    "zip.extractall()\n",
    "zip.close()\n",
    "\n",
    "# copy to data folder and remove source folder\n",
    "!cp -r Fantasy-Premier-League-master/data ./\n",
    "!rm -r -d Fantasy-Premier-League-master Fantasy-Premier-League-master.zip"
   ]
  },
  {
   "cell_type": "code",
   "execution_count": 34,
   "id": "7c7b1385",
   "metadata": {},
   "outputs": [
    {
     "name": "stdout",
     "output_type": "stream",
     "text": [
      "                          name position       team    xP  assists  bonus  bps  \\\n",
      "447     Trent Alexander-Arnold      DEF  Liverpool  10.5        0      0   22   \n",
      "165              Mohamed Salah      MID  Liverpool   9.5        0      3   42   \n",
      "526            Sergio Reguilón      DEF      Spurs   9.2        1      3   35   \n",
      "29                  Diogo Jota      MID  Liverpool   9.0        0      1   37   \n",
      "118  João Pedro Cavaco Cancelo      DEF   Man City   8.2        0      0   10   \n",
      "..                         ...      ...        ...   ...      ...    ...  ...   \n",
      "465       William Troost-Ekong      DEF    Watford  -1.3        0      0    2   \n",
      "16               Robert Elliot       GK    Watford  -1.5        0      0    0   \n",
      "229                Dan Gosling      MID    Watford  -1.5        0      0    0   \n",
      "149         Christian Kabasele      DEF    Watford  -1.5        0      0    0   \n",
      "217               James Morris      DEF    Watford  -1.5        0      0    0   \n",
      "\n",
      "     clean_sheets  creativity  element  ...  team_a_score  team_h_score  \\\n",
      "447             0        34.6      237  ...             4             1   \n",
      "165             0         5.4      233  ...             4             1   \n",
      "526             1        26.8      370  ...             0             2   \n",
      "29              0        40.8      240  ...             4             1   \n",
      "118             0        18.2      256  ...             2             1   \n",
      "..            ...         ...      ...  ...           ...           ...   \n",
      "465             0         0.1      387  ...             2             1   \n",
      "16              0         0.0      574  ...             2             1   \n",
      "229             0         0.0      378  ...             2             1   \n",
      "149             0         0.0      384  ...             2             1   \n",
      "217             0         0.0      633  ...             2             1   \n",
      "\n",
      "     threat  total_points  transfers_balance transfers_in  transfers_out  \\\n",
      "447     7.0             2             142672       158929          16257   \n",
      "165    69.0            15               4839        24856          20017   \n",
      "526     6.0            12              92908       115811          22903   \n",
      "29     32.0             8             664001       674767          10766   \n",
      "118    25.0             2             146205       161739          15534   \n",
      "..      ...           ...                ...          ...            ...   \n",
      "465     2.0             0               -118          208            326   \n",
      "16      0.0             0                -49          834            883   \n",
      "229     0.0             0                 -4           43             47   \n",
      "149     0.0             0                -48           29             77   \n",
      "217     0.0             0                134          154             20   \n",
      "\n",
      "     value  was_home  yellow_cards  \n",
      "447     80     False             0  \n",
      "165    130     False             0  \n",
      "526     51      True             0  \n",
      "29      78     False             0  \n",
      "118     67     False             0  \n",
      "..     ...       ...           ...  \n",
      "465     44      True             1  \n",
      "16      40      True             0  \n",
      "229     48      True             0  \n",
      "149     43      True             0  \n",
      "217     40      True             0  \n",
      "\n",
      "[636 rows x 35 columns]\n"
     ]
    }
   ],
   "source": [
    "import pandas as pd\n",
    "\n",
    "# read gw14 data\n",
    "df = pd.read_csv('data/2021-22/gws/gw14.csv')\n",
    "df = df.sort_values('xP', ascending=False)\n",
    "print(df)"
   ]
  },
  {
   "cell_type": "code",
   "execution_count": 35,
   "id": "b587ce58",
   "metadata": {},
   "outputs": [
    {
     "data": {
      "image/png": "[encoded data removed]",
      "text/plain": [
       "<Figure size 432x288 with 1 Axes>"
      ]
     },
     "metadata": {
      "needs_background": "light"
     },
     "output_type": "display_data"
    }
   ],
   "source": [
    "import matplotlib.pyplot as plt\n",
    "\n",
    "plt.title('Total points vs xP')\n",
    "plt.xlabel('Total points')\n",
    "plt.ylabel('xP')\n",
    "plt.scatter(df['total_points'],df['xP'])\n",
    "plt.show()"
   ]
  },
  {
   "cell_type": "code",
   "execution_count": null,
   "id": "46d96d2c",
   "metadata": {},
   "outputs": [],
   "source": []
  }
 ],
 "metadata": {
  "kernelspec": {
   "display_name": "Python 3",
   "language": "python",
   "name": "python3"
  },
  "language_info": {
   "codemirror_mode": {
    "name": "ipython",
    "version": 3
   },
   "file_extension": ".py",
   "mimetype": "text/x-python",
   "name": "python",
   "nbconvert_exporter": "python",
   "pygments_lexer": "ipython3",
   "version": "3.8.8"
  }
 },
 "nbformat": 4,
 "nbformat_minor": 5
}
